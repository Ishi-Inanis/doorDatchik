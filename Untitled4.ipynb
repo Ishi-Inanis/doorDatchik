{
 "cells": [
  {
   "cell_type": "code",
   "execution_count": 27,
   "metadata": {
    "colab": {
     "base_uri": "https://localhost:8080/"
    },
    "id": "_ZWEmv-bftjI",
    "outputId": "1ed628cb-a94d-4432-bf02-ba63a2ac6645"
   },
   "outputs": [
    {
     "name": "stdout",
     "output_type": "stream",
     "text": [
      "--2021-09-12 07:20:47--  http://download.cdn.yandex.net/mystem/mystem-3.0-linux3.1-64bit.tar.gz\n",
      "Resolving download.cdn.yandex.net (download.cdn.yandex.net)... 5.45.205.245, 5.45.205.243, 5.45.205.244, ...\n",
      "Connecting to download.cdn.yandex.net (download.cdn.yandex.net)|5.45.205.245|:80... connected.\n",
      "HTTP request sent, awaiting response... 302 Found\n",
      "Location: https://cachev2-mskm903.cdn.yandex.net/download.cdn.yandex.net/mystem/mystem-3.0-linux3.1-64bit.tar.gz?lid=235 [following]\n",
      "--2021-09-12 07:20:47--  https://cachev2-mskm903.cdn.yandex.net/download.cdn.yandex.net/mystem/mystem-3.0-linux3.1-64bit.tar.gz?lid=235\n",
      "Resolving cachev2-mskm903.cdn.yandex.net (cachev2-mskm903.cdn.yandex.net)... 5.45.220.89, 2a02:6b8:0:2002::989\n",
      "Connecting to cachev2-mskm903.cdn.yandex.net (cachev2-mskm903.cdn.yandex.net)|5.45.220.89|:443... connected.\n",
      "HTTP request sent, awaiting response... 200 OK\n",
      "Length: 16457938 (16M) [application/octet-stream]\n",
      "Saving to: ‘mystem-3.0-linux3.1-64bit.tar.gz.5’\n",
      "\n",
      "mystem-3.0-linux3.1 100%[===================>]  15.70M  30.8MB/s    in 0.5s    \n",
      "\n",
      "2021-09-12 07:20:48 (30.8 MB/s) - ‘mystem-3.0-linux3.1-64bit.tar.gz.5’ saved [16457938/16457938]\n",
      "\n",
      "mystem\n",
      "Requirement already satisfied: python-docx in /usr/local/lib/python3.7/dist-packages (0.8.11)\n",
      "Requirement already satisfied: lxml>=2.3.2 in /usr/local/lib/python3.7/dist-packages (from python-docx) (4.2.6)\n"
     ]
    }
   ],
   "source": [
    "!wget http://download.cdn.yandex.net/mystem/mystem-3.0-linux3.1-64bit.tar.gz\n",
    "!tar -xvf mystem-3.0-linux3.1-64bit.tar.gz\n",
    "!cp mystem /root/.local/bin/mystem\n",
    "!pip install python-docx"
   ]
  },
  {
   "cell_type": "code",
   "execution_count": 28,
   "metadata": {
    "colab": {
     "base_uri": "https://localhost:8080/"
    },
    "id": "URy6yPkuKJ3-",
    "outputId": "044d2e77-c0b1-49e5-af05-18ed4835ab13"
   },
   "outputs": [
    {
     "name": "stdout",
     "output_type": "stream",
     "text": [
      "[nltk_data] Downloading package stopwords to /root/nltk_data...\n",
      "[nltk_data]   Package stopwords is already up-to-date!\n"
     ]
    }
   ],
   "source": [
    "import os, sys\n",
    "from glob import glob\n",
    "import shutil\n",
    "import docx\n",
    "from docx.enum.text import WD_COLOR_INDEX\n",
    "import nltk\n",
    "nltk.download(\"stopwords\")\n",
    "\n",
    "from nltk.corpus import stopwords\n",
    "from pymystem3 import Mystem\n",
    "from string import punctuation\n",
    "import numpy as np\n",
    "import pandas as pd\n",
    "\n",
    "mystem = Mystem() \n",
    "russian_stopwords = stopwords.words(\"russian\")\n",
    "\n",
    "\n",
    "\n"
   ]
  },
  {
   "cell_type": "code",
   "execution_count": 1,
   "metadata": {
    "id": "jLsMOGjXKToo"
   },
   "outputs": [
    {
     "ename": "NameError",
     "evalue": "name 'glob' is not defined",
     "output_type": "error",
     "traceback": [
      "\u001b[1;31m---------------------------------------------------------------------------\u001b[0m",
      "\u001b[1;31mNameError\u001b[0m                                 Traceback (most recent call last)",
      "\u001b[1;32m<ipython-input-1-736b3abbbeca>\u001b[0m in \u001b[0;36m<module>\u001b[1;34m\u001b[0m\n\u001b[0;32m      4\u001b[0m \u001b[0mfile_orig\u001b[0m \u001b[1;33m=\u001b[0m \u001b[1;33m[\u001b[0m\u001b[1;33m]\u001b[0m\u001b[1;33m\u001b[0m\u001b[1;33m\u001b[0m\u001b[0m\n\u001b[0;32m      5\u001b[0m \u001b[0mnp\u001b[0m \u001b[1;33m=\u001b[0m \u001b[1;33m[\u001b[0m\u001b[1;33m]\u001b[0m\u001b[1;33m\u001b[0m\u001b[1;33m\u001b[0m\u001b[0m\n\u001b[1;32m----> 6\u001b[1;33m \u001b[0ma\u001b[0m \u001b[1;33m=\u001b[0m \u001b[0mlist\u001b[0m\u001b[1;33m(\u001b[0m\u001b[0mglob\u001b[0m\u001b[1;33m(\u001b[0m\u001b[0mos\u001b[0m\u001b[1;33m.\u001b[0m\u001b[0mpath\u001b[0m\u001b[1;33m.\u001b[0m\u001b[0mjoin\u001b[0m\u001b[1;33m(\u001b[0m\u001b[0mdir\u001b[0m\u001b[1;33m+\u001b[0m\u001b[1;34m\"/4_3\"\u001b[0m\u001b[1;33m,\u001b[0m\u001b[1;34m\"*\"\u001b[0m\u001b[1;33m)\u001b[0m\u001b[1;33m)\u001b[0m\u001b[1;33m)\u001b[0m\u001b[1;33m\u001b[0m\u001b[1;33m\u001b[0m\u001b[0m\n\u001b[0m\u001b[0;32m      7\u001b[0m \u001b[0mtext_r\u001b[0m \u001b[1;33m=\u001b[0m \u001b[1;34m\"\"\u001b[0m\u001b[1;33m\u001b[0m\u001b[1;33m\u001b[0m\u001b[0m\n\u001b[0;32m      8\u001b[0m \u001b[1;32mfor\u001b[0m \u001b[0mfile\u001b[0m \u001b[1;32min\u001b[0m \u001b[0ma\u001b[0m\u001b[1;33m:\u001b[0m\u001b[1;33m\u001b[0m\u001b[1;33m\u001b[0m\u001b[0m\n",
      "\u001b[1;31mNameError\u001b[0m: name 'glob' is not defined"
     ]
    }
   ],
   "source": [
    "alphabet=set('абвгдеёжзийклмнопрстуфхцчшщъыьэюя')\n",
    "dir = \"\"\n",
    "word = []\n",
    "file_orig = []\n",
    "np = []\n",
    "a = list(glob(os.path.join(dir+\"/4_3\",\"*\")))\n",
    "text_r = \"\" \n",
    "for file in a:\n",
    "  t = list(glob(os.path.join((list(glob(os.path.join(file,\"*\")))[0]),\"Edition_Text.docx\")))[0]\n",
    "  doc = docx.Document(t)\n",
    "  for paragraph in doc.paragraphs:\n",
    "    if(paragraph.text != \"\"):\n",
    "      text = \"\"\n",
    "      for run in paragraph.runs:\n",
    "        if (run.font.highlight_color != WD_COLOR_INDEX.RED and run.text != \"\"):\n",
    "          text += run.text.lower() + \" \"\n",
    "        if (run.font.highlight_color == WD_COLOR_INDEX.RED and run.text != \"\"):\n",
    "          text_r += run.text.lower() + \" \"\n",
    "      tokens = mystem.lemmatize(text)\n",
    "      tokens = [token for token in tokens if token not in russian_stopwords\\\n",
    "          and token != \" \" \\\n",
    "          and token.strip() not in punctuation\\\n",
    "          and len(token) > 2\\\n",
    "          and alphabet.isdisjoint(token) == 0]\n",
    "      if ( tokens != []):\n",
    "        for i_word in tokens:\n",
    "          word.append(i_word)\n",
    "          np.append(0)\n",
    "tokens = mystem.lemmatize(text_r)\n",
    "tokens = [token for token in tokens if token not in russian_stopwords\\\n",
    "    and token != \" \" \\\n",
    "    and token.strip() not in punctuation\\\n",
    "    and len(token) > 2\\\n",
    "    and alphabet.isdisjoint(token) == 0]\n",
    "if ( tokens != []):\n",
    "  for i_word in tokens:\n",
    "      word.append(i_word)\n",
    "      np.append(1)"
   ]
  },
  {
   "cell_type": "code",
   "execution_count": 20,
   "metadata": {
    "colab": {
     "base_uri": "https://localhost:8080/"
    },
    "id": "ltEb1rbWrJht",
    "outputId": "a857fc93-470c-450c-d794-678899ad3fd2"
   },
   "outputs": [
    {
     "name": "stdout",
     "output_type": "stream",
     "text": [
      "[]\n"
     ]
    }
   ],
   "source": [
    "print (word)\n",
    "df = pd.DataFrame({ 'word': word,'np': np})\n",
    "df.to_csv(dir+\"/trein_data.csv\",index=False)"
   ]
  },
  {
   "cell_type": "code",
   "execution_count": null,
   "metadata": {
    "id": "Ez6cxZ2O_qUQ"
   },
   "outputs": [],
   "source": [
    "os.getcwd()\n",
    "alphabet=set('абвгдеёжзийклмнопрстуфхцчшщъыьэюя')\n",
    "dir = \"/content/drive/MyDrive\"\n",
    "word = []\n",
    "np = []\n",
    "a = list(glob(os.path.join(dir+\"/4_3_test\",\"*\")))\n",
    "text_r = \"\" \n",
    "for file in a:\n",
    "  word = []\n",
    "  np = []\n",
    "  t = list(glob(os.path.join((list(glob(os.path.join(file,\"*\")))[0]),\"Edition_Text.docx\")))[0]\n",
    "  doc = docx.Document(t)\n",
    "  for paragraph in doc.paragraphs:\n",
    "    if(paragraph.text != \"\"):\n",
    "      text = \"\"\n",
    "      for run in paragraph.runs:\n",
    "        if (run.font.highlight_color != WD_COLOR_INDEX.RED and run.text != \"\"):\n",
    "          text += run.text.lower() + \" \"\n",
    "        if (run.font.highlight_color == WD_COLOR_INDEX.RED and run.text != \"\"):\n",
    "          text_r += run.text.lower() + \" \"\n",
    "      tokens = mystem.lemmatize(text)\n",
    "      tokens = [token for token in tokens if token not in russian_stopwords\\\n",
    "          and token != \" \" \\\n",
    "          and token.strip() not in punctuation\\\n",
    "          and len(token) > 2\\\n",
    "          and alphabet.isdisjoint(token) == 0]\n",
    "      if ( tokens != []):\n",
    "        for i_word in tokens:\n",
    "          if(not i_word in word):\n",
    "            word.append(i_word)\n",
    "            np.append(0)\n",
    "  df = pd.DataFrame({ 'word': word,'np': np})\n",
    "  df.to_csv(list(glob(os.path.join(file,\"*\")))[0]+\"/trein_data.csv\",index=False)  "
   ]
  },
  {
   "cell_type": "code",
   "execution_count": null,
   "metadata": {
    "id": "q-9bzL0dBNnh"
   },
   "outputs": [],
   "source": [
    "os.getcwd()\n",
    "alphabet=set('абвгдеёжзийклмнопрстуфхцчшщъыьэюя')\n",
    "dir = \"/content/drive/MyDrive\"\n",
    "word = []\n",
    "np = []\n",
    "a = list(glob(os.path.join(dir+\"/4_3_test\",\"*\")))\n",
    "text_r = \"\" \n",
    "for file in a:\n",
    "  t = list(glob(os.path.join((list(glob(os.path.join(file,\"*\")))[0]),\"Edition_Text.docx\")))[0]\n",
    "  doc = docx.Document(t)\n",
    "  for paragraph in doc.paragraphs:\n",
    "    if(paragraph.text != \"\"):\n",
    "      text = \"\"\n",
    "      for run in paragraph.runs:\n",
    "        if (run.font.highlight_color != WD_COLOR_INDEX.RED and run.text != \"\"):\n",
    "          text += run.text.lower() + \" \"\n",
    "        if (run.font.highlight_color == WD_COLOR_INDEX.RED and run.text != \"\"):\n",
    "          text_r += run.text.lower() + \" \"\n",
    "      tokens = mystem.lemmatize(text)\n",
    "      tokens = [token for token in tokens if token not in russian_stopwords\\\n",
    "          and token != \" \" \\\n",
    "          and token.strip() not in punctuation\\\n",
    "          and len(token) > 2\\\n",
    "          and alphabet.isdisjoint(token) == 0]\n",
    "      if ( tokens != []):\n",
    "        for i_word in tokens:\n",
    "          if(not i_word in word):\n",
    "            word.append(i_word)\n",
    "            np.append(0)\n",
    "  df = pd.DataFrame({ 'word': word,'np': np})\n",
    "  df.to_csv(dir+\"/trein_data_test.csv\",index=False) "
   ]
  },
  {
   "cell_type": "code",
   "execution_count": null,
   "metadata": {
    "id": "FUq-yDMNBys3"
   },
   "outputs": [],
   "source": []
  }
 ],
 "metadata": {
  "colab": {
   "name": "Untitled4.ipynb",
   "provenance": [],
   "toc_visible": true
  },
  "kernelspec": {
   "display_name": "Python 3",
   "language": "python",
   "name": "python3"
  },
  "language_info": {
   "codemirror_mode": {
    "name": "ipython",
    "version": 3
   },
   "file_extension": ".py",
   "mimetype": "text/x-python",
   "name": "python",
   "nbconvert_exporter": "python",
   "pygments_lexer": "ipython3",
   "version": "3.8.8"
  }
 },
 "nbformat": 4,
 "nbformat_minor": 1
}
